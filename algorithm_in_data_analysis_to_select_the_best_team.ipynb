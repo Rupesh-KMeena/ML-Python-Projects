{
  "cells": [
    {
      "cell_type": "code",
      "execution_count": null,
      "id": "009685e4",
      "metadata": {
        "id": "009685e4"
      },
      "outputs": [],
      "source": [
        "import pandas as pd"
      ]
    },
    {
      "cell_type": "code",
      "execution_count": null,
      "id": "367d51ab",
      "metadata": {
        "id": "367d51ab"
      },
      "outputs": [],
      "source": [
        "# Create a dataframe to store player performance data\n",
        "player_data = pd.DataFrame({\n",
        "    'Player': ['Player 1', 'Player 2', 'Player 3', 'Player 4', 'Player 5'],\n",
        "    'Team': ['Man City', 'Man City', 'Inter Milan', 'Inter Milan', 'Inter Milan'],\n",
        "    'Performance': [8.2, 7.5, 7.9, 8.5, 7.8]\n",
        "})"
      ]
    },
    {
      "cell_type": "code",
      "execution_count": null,
      "id": "fef3a922",
      "metadata": {
        "id": "fef3a922"
      },
      "outputs": [],
      "source": [
        "# Create a dictionary to store team strategies\n",
        "team_strategies = {\n",
        "    'Man City': 'Offensive',\n",
        "    'Inter Milan': 'Defensive'\n",
        "}"
      ]
    },
    {
      "cell_type": "code",
      "execution_count": null,
      "id": "7ad887a4",
      "metadata": {
        "id": "7ad887a4"
      },
      "outputs": [],
      "source": [
        "# Create a dictionary to store past records\n",
        "past_records = {\n",
        "    'Man City': {\n",
        "        'Champions League': 2,\n",
        "        'Premier League': 4\n",
        "    },\n",
        "    'Inter Milan': {\n",
        "        'Champions League': 3,\n",
        "        'Serie A': 1\n",
        "    }\n",
        "}"
      ]
    },
    {
      "cell_type": "code",
      "execution_count": null,
      "id": "29a4b4e9",
      "metadata": {
        "id": "29a4b4e9"
      },
      "outputs": [],
      "source": [
        "# Define a function to calculate a weighted score for each player\n",
        "def calculate_weighted_score(player):\n",
        "    player_performance = player['Performance']\n",
        "    team_strategy = team_strategies[player['Team']]\n",
        "    past_champions_league = past_records[player['Team']]['Champions League']\n",
        "\n",
        "    weighted_score = player_performance + (past_champions_league * 0.1)\n",
        "\n",
        "    if team_strategy == 'Offensive':\n",
        "        weighted_score += 0.5\n",
        "    elif team_strategy == 'Defensive':\n",
        "        weighted_score -= 0.5\n",
        "\n",
        "    return weighted_score"
      ]
    },
    {
      "cell_type": "code",
      "execution_count": null,
      "id": "70529cf8",
      "metadata": {
        "id": "70529cf8"
      },
      "outputs": [],
      "source": [
        "# Sort the player data based on their weighted scores\n",
        "player_data['Weighted Score'] = player_data.apply(calculate_weighted_score, axis=1)\n",
        "player_data = player_data.sort_values(by='Weighted Score', ascending=False)"
      ]
    },
    {
      "cell_type": "code",
      "execution_count": null,
      "id": "cbb91d70",
      "metadata": {
        "id": "cbb91d70"
      },
      "outputs": [],
      "source": [
        "# Select the best players for each team\n",
        "man_city_players = player_data[player_data['Team'] == 'Man City'].head(3)\n",
        "inter_milan_players = player_data[player_data['Team'] == 'Inter Milan'].head(3)"
      ]
    },
    {
      "cell_type": "code",
      "execution_count": null,
      "id": "cf75ed66",
      "metadata": {
        "id": "cf75ed66",
        "outputId": "a06ec9d9-1371-4d99-a60b-0799a4e43d62"
      },
      "outputs": [
        {
          "name": "stdout",
          "output_type": "stream",
          "text": [
            "Man City's Best Players:\n",
            "     Player  Weighted Score\n",
            "0  Player 1             8.9\n",
            "1  Player 2             8.2\n"
          ]
        }
      ],
      "source": [
        "# Print the selected players for the Champions League Final\n",
        "print(\"Man City's Best Players:\")\n",
        "print(man_city_players[['Player', 'Weighted Score']])"
      ]
    },
    {
      "cell_type": "code",
      "execution_count": null,
      "id": "50bb3836",
      "metadata": {
        "id": "50bb3836",
        "outputId": "bbdf843f-4a00-4086-9d6d-6955c20d2283"
      },
      "outputs": [
        {
          "name": "stdout",
          "output_type": "stream",
          "text": [
            "\n",
            "Inter Milan's Best Players:\n",
            "     Player  Weighted Score\n",
            "3  Player 4             8.3\n",
            "2  Player 3             7.7\n",
            "4  Player 5             7.6\n"
          ]
        }
      ],
      "source": [
        "print(\"\\nInter Milan's Best Players:\")\n",
        "print(inter_milan_players[['Player', 'Weighted Score']])"
      ]
    }
  ],
  "metadata": {
    "kernelspec": {
      "display_name": "Python 3 (ipykernel)",
      "language": "python",
      "name": "python3"
    },
    "language_info": {
      "codemirror_mode": {
        "name": "ipython",
        "version": 3
      },
      "file_extension": ".py",
      "mimetype": "text/x-python",
      "name": "python",
      "nbconvert_exporter": "python",
      "pygments_lexer": "ipython3",
      "version": "3.11.2"
    },
    "colab": {
      "provenance": []
    }
  },
  "nbformat": 4,
  "nbformat_minor": 5
}